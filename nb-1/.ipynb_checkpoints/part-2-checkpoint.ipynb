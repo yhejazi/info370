{
 "cells": [
  {
   "cell_type": "markdown",
   "metadata": {},
   "source": [
    "# Web scraping\n",
    "A common data collection task is to collect data from web pages and transform them into an analysis ready format. In this exercise, you'll be scraping the [Informatics Course Information](https://www.washington.edu/students/crscat/info.html) page to ask some basic questions about the courses offered."
   ]
  },
  {
   "cell_type": "markdown",
   "metadata": {},
   "source": [
    "## Set up\n",
    "The `beautifulsoup` package should already be installed as part of your Anaconda distribution. You can import it using the following syntax:\n",
    "\n",
    "```python\n",
    "from bs4 import BeautifulSoup as bs\n",
    "```"
   ]
  },
  {
   "cell_type": "markdown",
   "metadata": {},
   "source": [
    "## Scraping"
   ]
  },
  {
   "cell_type": "code",
   "execution_count": 1,
   "metadata": {},
   "outputs": [],
   "source": [
    "# Import the libraries you need: beautiful soup (bs4) and `requests`\n",
    "from bs4 import BeautifulSoup as bs\n",
    "import requests as r"
   ]
  },
  {
   "cell_type": "code",
   "execution_count": 2,
   "metadata": {},
   "outputs": [],
   "source": [
    "# Use the `get` method of the requests library to fetch the page content\n",
    "content = r.get(\"https://www.washington.edu/students/crscat/info.html\")"
   ]
  },
  {
   "cell_type": "code",
   "execution_count": 3,
   "metadata": {},
   "outputs": [],
   "source": [
    "# Use bs to create a BeautifulSoup object of the page content\n",
    "soup = bs(content.text, \"html.parser\")"
   ]
  },
  {
   "cell_type": "code",
   "execution_count": 4,
   "metadata": {},
   "outputs": [],
   "source": [
    "# We can now use the `find_all` method to find all course title elements\n",
    "# Iterate through these elements and store the *text* of each course title in a variable\n",
    "# Hint: You'll need to review the HTML to figure out how to identify them\n",
    "# Hint: use a list comprehension!\n",
    "titles = [t.text for t in soup.find_all('b')]"
   ]
  },
  {
   "cell_type": "code",
   "execution_count": 5,
   "metadata": {},
   "outputs": [],
   "source": [
    "# We can now use the `find_all` method to find all course description elements\n",
    "# Iterate through these elements and store the *text* of each course description in a variable\n",
    "# Hint: You'll need to review the HTML to figure out how to identify them\n",
    "# Hint: you may have to skip certain elements...\n",
    "descriptions = [t.next_element.next_element.next_element for t in soup.find_all('b')]"
   ]
  },
  {
   "cell_type": "markdown",
   "metadata": {},
   "source": [
    "## Data processing\n",
    "Now that you have the data, we'll re-structure it so that we can easily ask questions about the data"
   ]
  },
  {
   "cell_type": "code",
   "execution_count": 6,
   "metadata": {},
   "outputs": [],
   "source": [
    "# Create a dictionary where the *keys are course numbers* (e.g., INFO 370), and the values are *dictionaries* \n",
    "# With the following values: \n",
    "#     - \"title\": title of the course (from above)\n",
    "#     - \"description\": description of the course (from above)\n",
    "#     - \"credits\": can be a string of the number of credits (some are a range)\n",
    "#     - \"level\": 100, 200, 300, or 400 (an *integer*)\n",
    "#     - \"meets_requirements\": string of requriment(s) met (i.e., VLPA, I&S, etc.)\n",
    "# Hint: start with an empty dictionary use a loop, keeping track of the *index* \n",
    "# Hint: think of creative ways to get the credits/level from your string\n",
    "\n",
    "import re\n",
    "\n",
    "courses = {}\n",
    "\n",
    "for i in range(len(titles)):\n",
    "    course_number = re.findall(\"^INFO\\s[0-9]{3}\", titles[i])[0]\n",
    "    title = re.findall(\"(.*) \\(\", titles[i])[0]\n",
    "    description = descriptions[i]\n",
    "    credits = re.findall(\"\\(.*\\)\", titles[i])[0]\n",
    "    level = re.findall(\"\\d\", titles[i])[0] + \"00\"\n",
    "    meets_requirements = re.findall(\"\\) (.*)\", titles[i])\n",
    "    \n",
    "    \n",
    "    courses[course_number] = {\"title\": title, \"description\": description, \"credits\": credits, \"level\": level, \n",
    "                             \"meets_requirements\": meets_requirements}"
   ]
  },
  {
   "cell_type": "code",
   "execution_count": 7,
   "metadata": {},
   "outputs": [
    {
     "data": {
      "text/plain": [
       "{'title': 'INFO 101 Social Networking Technologies',\n",
       " 'description': \"Explores today's most popular social networks, gaming applications, and messaging applications. Examines technologies, social implications, and information structure. Focuses on logic, databases, networked delivery, identity, access, privacy, ecommerce, organization, and retrieval.\",\n",
       " 'credits': '(5)',\n",
       " 'level': '100',\n",
       " 'meets_requirements': ['I&S/NW']}"
      ]
     },
     "execution_count": 7,
     "metadata": {},
     "output_type": "execute_result"
    }
   ],
   "source": [
    "courses[\"INFO 101\"]"
   ]
  },
  {
   "cell_type": "markdown",
   "metadata": {},
   "source": [
    "## Asking questions of the data\n",
    "Now we can filter the dataset to ask questions of interest"
   ]
  },
  {
   "cell_type": "code",
   "execution_count": 8,
   "metadata": {},
   "outputs": [],
   "source": [
    "# How many courses are 300 level courses?\n",
    "# Hint: use a list comprehension! \n",
    "level_300 = sum([1 for name in courses.values() if name['level'] == '300'])"
   ]
  },
  {
   "cell_type": "code",
   "execution_count": 9,
   "metadata": {},
   "outputs": [],
   "source": [
    "# What are the course titles of courses that meet *some* university requirement?\n",
    "requirement_courses = [name['title'] for name in courses.values() if name['meets_requirements'] is not '']"
   ]
  },
  {
   "cell_type": "code",
   "execution_count": 10,
   "metadata": {},
   "outputs": [],
   "source": [
    "# Write a function that takes in your courses object and a course level (100, 200, etc.) and \n",
    "# returns all of the *course titles* of courses that are that level\n",
    "\n",
    "# Make sure to use a doc string to document your function\n",
    "def find_courses_by_level(courses, level):\n",
    "    \"\"\"takes in courses dictionary and course level, returns all course titles of that level\"\"\"\n",
    "    return [name['title'] for name in courses.values() if name['level'] == str(level)]"
   ]
  },
  {
   "cell_type": "code",
   "execution_count": 11,
   "metadata": {},
   "outputs": [
    {
     "data": {
      "text/plain": [
       "['INFO 101 Social Networking Technologies',\n",
       " 'INFO 102 Gender and Information Technology',\n",
       " 'INFO 180 Introduction to Data Science',\n",
       " 'INFO 198 Exploring Informatics']"
      ]
     },
     "execution_count": 11,
     "metadata": {},
     "output_type": "execute_result"
    }
   ],
   "source": [
    "# Demonstrate that your function works\n",
    "level_100 = find_courses_by_level(courses, 100)\n",
    "level_100"
   ]
  }
 ],
 "metadata": {
  "kernelspec": {
   "display_name": "Python 3",
   "language": "python",
   "name": "python3"
  },
  "language_info": {
   "codemirror_mode": {
    "name": "ipython",
    "version": 3
   },
   "file_extension": ".py",
   "mimetype": "text/x-python",
   "name": "python",
   "nbconvert_exporter": "python",
   "pygments_lexer": "ipython3",
   "version": "3.7.3"
  }
 },
 "nbformat": 4,
 "nbformat_minor": 2
}
