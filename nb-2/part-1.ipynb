{
 "cells": [
  {
   "cell_type": "markdown",
   "metadata": {},
   "source": [
    "# Pandas Basics\n",
    "In python, the `pandas` package is the most popular data-frame (i.e., 2-dimensional) manipulation framework. You can think of it like `dplyr` for python. This notebook will walk you through some of the basics of working with dataframes, as well as plotting with `matplotlib` (a popular graphics package). "
   ]
  },
  {
   "cell_type": "markdown",
   "metadata": {},
   "source": [
    "## Creating DataFrames\n",
    "Let's create a dataframe representing 1000 houses that has the following columns:\n",
    "- `house_id`: This should be `\"house_N\"`, where `N` is the house number (i.e., `house_1`)\n",
    "- `neighborhood`: There should be 5 neighborhoods, `\"a\"` through `\"e\"` (200 of each)\n",
    "- `price_2010`: The price (in USD) of the house in 2010 (can be _float_)\n",
    "- `price_2018`: The price (in USD) of the house in 2010 (can be _float_)"
   ]
  },
  {
   "cell_type": "code",
   "execution_count": 1,
   "metadata": {},
   "outputs": [],
   "source": [
    "# Import the pandas, numpy, and matplotlib.pyplot packages (as pd, np, and plt respectively)\n",
    "import pandas as pd\n",
    "import numpy as np\n",
    "import matplotlib.pyplot as plt"
   ]
  },
  {
   "cell_type": "code",
   "execution_count": 2,
   "metadata": {},
   "outputs": [],
   "source": [
    "# Create a _list_ of houses (\"house_N\") 1 through 1000\n",
    "house_name = [\"house_\" + str(i) for i in range(1, 1001)]"
   ]
  },
  {
   "cell_type": "code",
   "execution_count": 3,
   "metadata": {},
   "outputs": [],
   "source": [
    "# Create a list of neighborhoods `a` thorugh `e` that is 1000 elements long\n",
    "neighborhoods = ['a', 'b', 'c', 'd', 'e'] * 200"
   ]
  },
  {
   "cell_type": "code",
   "execution_count": 4,
   "metadata": {},
   "outputs": [],
   "source": [
    "# Create a list of 1000 home prices (for the year 2010) that range uniformly from 50000 to 400000 using np.random\n",
    "price_2010 = np.random.uniform(high=400000, low=50000, size=1000)"
   ]
  },
  {
   "cell_type": "code",
   "execution_count": 5,
   "metadata": {},
   "outputs": [],
   "source": [
    "# Create a list of 1000 home prices (for the year 2018) by multiplying the 2010 price by a random number\n",
    "# The number should be drawn randomly from a normal distribution with mean 1.5 and standard deviation .5\n",
    "price_2018 = np.random.normal(1.5, .5, 1000) * price_2010"
   ]
  },
  {
   "cell_type": "code",
   "execution_count": 6,
   "metadata": {},
   "outputs": [
    {
     "data": {
      "text/html": [
       "<div>\n",
       "<style scoped>\n",
       "    .dataframe tbody tr th:only-of-type {\n",
       "        vertical-align: middle;\n",
       "    }\n",
       "\n",
       "    .dataframe tbody tr th {\n",
       "        vertical-align: top;\n",
       "    }\n",
       "\n",
       "    .dataframe thead th {\n",
       "        text-align: right;\n",
       "    }\n",
       "</style>\n",
       "<table border=\"1\" class=\"dataframe\">\n",
       "  <thead>\n",
       "    <tr style=\"text-align: right;\">\n",
       "      <th></th>\n",
       "      <th>house</th>\n",
       "      <th>neighborhood</th>\n",
       "      <th>price_2010</th>\n",
       "      <th>price_2018</th>\n",
       "    </tr>\n",
       "  </thead>\n",
       "  <tbody>\n",
       "    <tr>\n",
       "      <th>0</th>\n",
       "      <td>house_1</td>\n",
       "      <td>a</td>\n",
       "      <td>170991.239842</td>\n",
       "      <td>106238.078684</td>\n",
       "    </tr>\n",
       "    <tr>\n",
       "      <th>1</th>\n",
       "      <td>house_2</td>\n",
       "      <td>b</td>\n",
       "      <td>395196.025538</td>\n",
       "      <td>582692.294032</td>\n",
       "    </tr>\n",
       "    <tr>\n",
       "      <th>2</th>\n",
       "      <td>house_3</td>\n",
       "      <td>c</td>\n",
       "      <td>59971.274749</td>\n",
       "      <td>95467.494409</td>\n",
       "    </tr>\n",
       "    <tr>\n",
       "      <th>3</th>\n",
       "      <td>house_4</td>\n",
       "      <td>d</td>\n",
       "      <td>297109.910852</td>\n",
       "      <td>484032.663551</td>\n",
       "    </tr>\n",
       "    <tr>\n",
       "      <th>4</th>\n",
       "      <td>house_5</td>\n",
       "      <td>e</td>\n",
       "      <td>342600.856173</td>\n",
       "      <td>473450.581606</td>\n",
       "    </tr>\n",
       "  </tbody>\n",
       "</table>\n",
       "</div>"
      ],
      "text/plain": [
       "     house neighborhood     price_2010     price_2018\n",
       "0  house_1            a  170991.239842  106238.078684\n",
       "1  house_2            b  395196.025538  582692.294032\n",
       "2  house_3            c   59971.274749   95467.494409\n",
       "3  house_4            d  297109.910852  484032.663551\n",
       "4  house_5            e  342600.856173  473450.581606"
      ]
     },
     "execution_count": 6,
     "metadata": {},
     "output_type": "execute_result"
    }
   ],
   "source": [
    "# Create a dataframe `houses` with each list above as a column. Use the pd.DataFrame() function\n",
    "houses = pd.DataFrame(data={\n",
    "    \"house\":house_name,\n",
    "    \"neighborhood\":neighborhoods,\n",
    "    \"price_2010\":price_2010,\n",
    "    \"price_2018\":price_2018\n",
    "})\n",
    "\n",
    "houses.head()"
   ]
  },
  {
   "cell_type": "markdown",
   "metadata": {},
   "source": [
    "# Accessing DataFrames\n",
    "In this section, you'll extract and compute information of interest using dataframe **properties** and **methods**"
   ]
  },
  {
   "cell_type": "code",
   "execution_count": 7,
   "metadata": {},
   "outputs": [
    {
     "data": {
      "text/plain": [
       "(1000, 4)"
      ]
     },
     "execution_count": 7,
     "metadata": {},
     "output_type": "execute_result"
    }
   ],
   "source": [
    "# What is the _shape_ of the dataframe?\n",
    "houses.shape"
   ]
  },
  {
   "cell_type": "code",
   "execution_count": 8,
   "metadata": {},
   "outputs": [
    {
     "data": {
      "text/plain": [
       "1006625.3333846977"
      ]
     },
     "execution_count": 8,
     "metadata": {},
     "output_type": "execute_result"
    }
   ],
   "source": [
    "# What is the maximum house price in 2018?\n",
    "houses.price_2018.max()"
   ]
  },
  {
   "cell_type": "code",
   "execution_count": 9,
   "metadata": {},
   "outputs": [
    {
     "data": {
      "text/html": [
       "<div>\n",
       "<style scoped>\n",
       "    .dataframe tbody tr th:only-of-type {\n",
       "        vertical-align: middle;\n",
       "    }\n",
       "\n",
       "    .dataframe tbody tr th {\n",
       "        vertical-align: top;\n",
       "    }\n",
       "\n",
       "    .dataframe thead th {\n",
       "        text-align: right;\n",
       "    }\n",
       "</style>\n",
       "<table border=\"1\" class=\"dataframe\">\n",
       "  <thead>\n",
       "    <tr style=\"text-align: right;\">\n",
       "      <th></th>\n",
       "      <th>price_2010</th>\n",
       "      <th>price_2018</th>\n",
       "    </tr>\n",
       "  </thead>\n",
       "  <tbody>\n",
       "    <tr>\n",
       "      <th>count</th>\n",
       "      <td>1000.000000</td>\n",
       "      <td>1.000000e+03</td>\n",
       "    </tr>\n",
       "    <tr>\n",
       "      <th>mean</th>\n",
       "      <td>230148.822610</td>\n",
       "      <td>3.448074e+05</td>\n",
       "    </tr>\n",
       "    <tr>\n",
       "      <th>std</th>\n",
       "      <td>99934.185172</td>\n",
       "      <td>1.925522e+05</td>\n",
       "    </tr>\n",
       "    <tr>\n",
       "      <th>min</th>\n",
       "      <td>50147.274684</td>\n",
       "      <td>1.337414e+04</td>\n",
       "    </tr>\n",
       "    <tr>\n",
       "      <th>25%</th>\n",
       "      <td>147798.347131</td>\n",
       "      <td>1.923071e+05</td>\n",
       "    </tr>\n",
       "    <tr>\n",
       "      <th>50%</th>\n",
       "      <td>230305.858549</td>\n",
       "      <td>3.227343e+05</td>\n",
       "    </tr>\n",
       "    <tr>\n",
       "      <th>75%</th>\n",
       "      <td>317026.978867</td>\n",
       "      <td>4.695442e+05</td>\n",
       "    </tr>\n",
       "    <tr>\n",
       "      <th>max</th>\n",
       "      <td>399971.595727</td>\n",
       "      <td>1.006625e+06</td>\n",
       "    </tr>\n",
       "  </tbody>\n",
       "</table>\n",
       "</div>"
      ],
      "text/plain": [
       "          price_2010    price_2018\n",
       "count    1000.000000  1.000000e+03\n",
       "mean   230148.822610  3.448074e+05\n",
       "std     99934.185172  1.925522e+05\n",
       "min     50147.274684  1.337414e+04\n",
       "25%    147798.347131  1.923071e+05\n",
       "50%    230305.858549  3.227343e+05\n",
       "75%    317026.978867  4.695442e+05\n",
       "max    399971.595727  1.006625e+06"
      ]
     },
     "execution_count": 9,
     "metadata": {},
     "output_type": "execute_result"
    }
   ],
   "source": [
    "# What are the summary statistics of the dataframe\n",
    "houses.describe()"
   ]
  },
  {
   "cell_type": "code",
   "execution_count": 10,
   "metadata": {},
   "outputs": [
    {
     "data": {
      "text/plain": [
       "322734.3128723698"
      ]
     },
     "execution_count": 10,
     "metadata": {},
     "output_type": "execute_result"
    }
   ],
   "source": [
    "# What was the median house price in 2018?\n",
    "houses.price_2018.median()"
   ]
  },
  {
   "cell_type": "code",
   "execution_count": 11,
   "metadata": {},
   "outputs": [
    {
     "data": {
      "text/plain": [
       "984    e\n",
       "Name: neighborhood, dtype: object"
      ]
     },
     "execution_count": 11,
     "metadata": {},
     "output_type": "execute_result"
    }
   ],
   "source": [
    "# In which neighborhood was the cheapest house in 2010?\n",
    "houses[houses.price_2010 == houses.price_2010.min()].neighborhood"
   ]
  },
  {
   "cell_type": "markdown",
   "metadata": {},
   "source": [
    "## Aggregating data\n",
    "Just like `dplyr`, pandas has a `groupby` method in which you can _group_ a dataframe by a column of interest, and then _aggregate_ (`agg`) your columns using a given function (i.e., `mean`, `sum`, `median`, etc.). Note, this will create a row `index` (i.e., row name) for your dataframe"
   ]
  },
  {
   "cell_type": "code",
   "execution_count": 12,
   "metadata": {},
   "outputs": [
    {
     "data": {
      "text/html": [
       "<div>\n",
       "<style scoped>\n",
       "    .dataframe tbody tr th:only-of-type {\n",
       "        vertical-align: middle;\n",
       "    }\n",
       "\n",
       "    .dataframe tbody tr th {\n",
       "        vertical-align: top;\n",
       "    }\n",
       "\n",
       "    .dataframe thead th {\n",
       "        text-align: right;\n",
       "    }\n",
       "</style>\n",
       "<table border=\"1\" class=\"dataframe\">\n",
       "  <thead>\n",
       "    <tr style=\"text-align: right;\">\n",
       "      <th></th>\n",
       "      <th>price_2010</th>\n",
       "      <th>price_2018</th>\n",
       "    </tr>\n",
       "    <tr>\n",
       "      <th>neighborhood</th>\n",
       "      <th></th>\n",
       "      <th></th>\n",
       "    </tr>\n",
       "  </thead>\n",
       "  <tbody>\n",
       "    <tr>\n",
       "      <th>a</th>\n",
       "      <td>231440.245063</td>\n",
       "      <td>321363.372718</td>\n",
       "    </tr>\n",
       "    <tr>\n",
       "      <th>b</th>\n",
       "      <td>225633.442266</td>\n",
       "      <td>327931.294513</td>\n",
       "    </tr>\n",
       "    <tr>\n",
       "      <th>c</th>\n",
       "      <td>227962.478891</td>\n",
       "      <td>332247.864153</td>\n",
       "    </tr>\n",
       "    <tr>\n",
       "      <th>d</th>\n",
       "      <td>230283.351185</td>\n",
       "      <td>326902.839620</td>\n",
       "    </tr>\n",
       "    <tr>\n",
       "      <th>e</th>\n",
       "      <td>236563.180104</td>\n",
       "      <td>302533.404035</td>\n",
       "    </tr>\n",
       "  </tbody>\n",
       "</table>\n",
       "</div>"
      ],
      "text/plain": [
       "                 price_2010     price_2018\n",
       "neighborhood                              \n",
       "a             231440.245063  321363.372718\n",
       "b             225633.442266  327931.294513\n",
       "c             227962.478891  332247.864153\n",
       "d             230283.351185  326902.839620\n",
       "e             236563.180104  302533.404035"
      ]
     },
     "execution_count": 12,
     "metadata": {},
     "output_type": "execute_result"
    }
   ],
   "source": [
    "# What was the median home price _in each neighborhood_ in each year? \n",
    "# Create a new variable of these values.\n",
    "by_neighborhood = houses.groupby('neighborhood').aggregate('median')\n",
    "by_neighborhood"
   ]
  },
  {
   "cell_type": "code",
   "execution_count": 13,
   "metadata": {},
   "outputs": [
    {
     "data": {
      "text/plain": [
       "price_2010    225633.442266\n",
       "price_2018    327931.294513\n",
       "Name: b, dtype: float64"
      ]
     },
     "execution_count": 13,
     "metadata": {},
     "output_type": "execute_result"
    }
   ],
   "source": [
    "# Get the prices for neighborhood 'b'. \n",
    "# Note, you can now use the df.loc[rows, columns] to select by row name\n",
    "by_neighborhood.loc['b']"
   ]
  },
  {
   "cell_type": "markdown",
   "metadata": {},
   "source": [
    "## Visualizing data\n",
    "In this section, we'll use `matplotlib` to create a few plots. You may want to reference the [documentation](https://matplotlib.org/contents.html) or [examples](https://matplotlib.org/examples/)"
   ]
  },
  {
   "cell_type": "code",
   "execution_count": 14,
   "metadata": {},
   "outputs": [
    {
     "data": {
      "image/png": "[encoded data removed]",
      "text/plain": [
       "<Figure size 432x288 with 1 Axes>"
      ]
     },
     "metadata": {
      "needs_background": "light"
     },
     "output_type": "display_data"
    }
   ],
   "source": [
    "# Create a histogram of prices in 2010 using `plt.hist()`, then `plt.show()`\n",
    "plt.hist(houses.price_2010)\n",
    "plt.xlabel(\"2010 house prices\")\n",
    "plt.ylabel(\"count\")\n",
    "plt.show()"
   ]
  },
  {
   "cell_type": "code",
   "execution_count": 15,
   "metadata": {},
   "outputs": [
    {
     "data": {
      "image/png": "[encoded data removed]",
      "text/plain": [
       "<Figure size 432x288 with 1 Axes>"
      ]
     },
     "metadata": {
      "needs_background": "light"
     },
     "output_type": "display_data"
    }
   ],
   "source": [
    "# Create a scatterplot of prices in 2010 v.s. prices in 2018 using `plt.scatter()`\n",
    "plt.scatter(houses.price_2010, houses.price_2018)\n",
    "plt.xlabel(\"2010 house prices\")\n",
    "plt.ylabel(\"2018 house prices\")\n",
    "plt.show()"
   ]
  },
  {
   "cell_type": "code",
   "execution_count": 16,
   "metadata": {},
   "outputs": [
    {
     "data": {
      "image/png": "[encoded data removed]",
      "text/plain": [
       "<Figure size 432x288 with 1 Axes>"
      ]
     },
     "metadata": {
      "needs_background": "light"
     },
     "output_type": "display_data"
    }
   ],
   "source": [
    "# To compare median house prices in 2018 by neighborhood, \n",
    "# Make a bar chart of the median house price in each neighborhood \n",
    "\n",
    "#by_neighborhood.index gives the neighborhood columns\n",
    "plt.bar(by_neighborhood.index, by_neighborhood.price_2018)\n",
    "plt.xlabel(\"neighborhood\")\n",
    "plt.ylabel(\"2018 house prices\")\n",
    "plt.show()"
   ]
  },
  {
   "cell_type": "code",
   "execution_count": 17,
   "metadata": {},
   "outputs": [
    {
     "data": {
      "image/png": "[encoded data removed]",
      "text/plain": [
       "<Figure size 432x288 with 2 Axes>"
      ]
     },
     "metadata": {
      "needs_background": "light"
     },
     "output_type": "display_data"
    }
   ],
   "source": [
    "# Finally, let's create *two adjacent bar charts* of price by neighborhood (2010, 2018)\n",
    "# Use the *same y axis*\n",
    "# See: https://matplotlib.org/examples/pylab_examples/subplots_demo.html\n",
    "f, (ax1, ax2) = plt.subplots(1, 2, sharey=True)\n",
    "\n",
    "ax1.bar(by_neighborhood.index, by_neighborhood.price_2010)\n",
    "ax1.set_title('Price in 2010')\n",
    "\n",
    "ax2.bar(by_neighborhood.index, by_neighborhood.price_2018)\n",
    "ax2.set_title('Price in 2018')\n",
    "\n",
    "plt.show()"
   ]
  }
 ],
 "metadata": {
  "kernelspec": {
   "display_name": "Python 3",
   "language": "python",
   "name": "python3"
  },
  "language_info": {
   "codemirror_mode": {
    "name": "ipython",
    "version": 3
   },
   "file_extension": ".py",
   "mimetype": "text/x-python",
   "name": "python",
   "nbconvert_exporter": "python",
   "pygments_lexer": "ipython3",
   "version": "3.7.6"
  }
 },
 "nbformat": 4,
 "nbformat_minor": 2
}
