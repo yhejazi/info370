{
 "cells": [
  {
   "cell_type": "markdown",
   "metadata": {},
   "source": [
    "# Health Burden"
   ]
  },
  {
   "cell_type": "markdown",
   "metadata": {},
   "source": [
    "## Set up"
   ]
  },
  {
   "cell_type": "code",
   "execution_count": 1,
   "metadata": {},
   "outputs": [
    {
     "data": {
      "text/html": [
       "<div>\n",
       "<style scoped>\n",
       "    .dataframe tbody tr th:only-of-type {\n",
       "        vertical-align: middle;\n",
       "    }\n",
       "\n",
       "    .dataframe tbody tr th {\n",
       "        vertical-align: top;\n",
       "    }\n",
       "\n",
       "    .dataframe thead th {\n",
       "        text-align: right;\n",
       "    }\n",
       "</style>\n",
       "<table border=\"1\" class=\"dataframe\">\n",
       "  <thead>\n",
       "    <tr style=\"text-align: right;\">\n",
       "      <th></th>\n",
       "      <th>country</th>\n",
       "      <th>country_code</th>\n",
       "      <th>super_region</th>\n",
       "      <th>region</th>\n",
       "      <th>sex</th>\n",
       "      <th>age</th>\n",
       "      <th>pop</th>\n",
       "      <th>alcohol_use</th>\n",
       "      <th>drug_use</th>\n",
       "      <th>high_meat</th>\n",
       "      <th>low_exercise</th>\n",
       "      <th>smoking</th>\n",
       "    </tr>\n",
       "  </thead>\n",
       "  <tbody>\n",
       "    <tr>\n",
       "      <th>0</th>\n",
       "      <td>China</td>\n",
       "      <td>CHN</td>\n",
       "      <td>Southeast Asia, East Asia, and Oceania</td>\n",
       "      <td>East Asia</td>\n",
       "      <td>male</td>\n",
       "      <td>70+ years</td>\n",
       "      <td>3.818010e+07</td>\n",
       "      <td>336.913532</td>\n",
       "      <td>40.210751</td>\n",
       "      <td>5.069854</td>\n",
       "      <td>248.266850</td>\n",
       "      <td>1944.480464</td>\n",
       "    </tr>\n",
       "    <tr>\n",
       "      <th>1</th>\n",
       "      <td>China</td>\n",
       "      <td>CHN</td>\n",
       "      <td>Southeast Asia, East Asia, and Oceania</td>\n",
       "      <td>East Asia</td>\n",
       "      <td>female</td>\n",
       "      <td>50-69 years</td>\n",
       "      <td>1.530703e+08</td>\n",
       "      <td>21.000557</td>\n",
       "      <td>4.697916</td>\n",
       "      <td>1.077716</td>\n",
       "      <td>12.919982</td>\n",
       "      <td>37.807709</td>\n",
       "    </tr>\n",
       "    <tr>\n",
       "      <th>2</th>\n",
       "      <td>China</td>\n",
       "      <td>CHN</td>\n",
       "      <td>Southeast Asia, East Asia, and Oceania</td>\n",
       "      <td>East Asia</td>\n",
       "      <td>male</td>\n",
       "      <td>Under 5</td>\n",
       "      <td>4.458679e+07</td>\n",
       "      <td>0.236908</td>\n",
       "      <td>0.120827</td>\n",
       "      <td>NaN</td>\n",
       "      <td>NaN</td>\n",
       "      <td>NaN</td>\n",
       "    </tr>\n",
       "    <tr>\n",
       "      <th>3</th>\n",
       "      <td>China</td>\n",
       "      <td>CHN</td>\n",
       "      <td>Southeast Asia, East Asia, and Oceania</td>\n",
       "      <td>East Asia</td>\n",
       "      <td>male</td>\n",
       "      <td>5-14 years</td>\n",
       "      <td>8.299538e+07</td>\n",
       "      <td>1.292633</td>\n",
       "      <td>0.038498</td>\n",
       "      <td>NaN</td>\n",
       "      <td>NaN</td>\n",
       "      <td>NaN</td>\n",
       "    </tr>\n",
       "    <tr>\n",
       "      <th>4</th>\n",
       "      <td>China</td>\n",
       "      <td>CHN</td>\n",
       "      <td>Southeast Asia, East Asia, and Oceania</td>\n",
       "      <td>East Asia</td>\n",
       "      <td>male</td>\n",
       "      <td>15-49 years</td>\n",
       "      <td>3.901690e+08</td>\n",
       "      <td>35.849941</td>\n",
       "      <td>5.677337</td>\n",
       "      <td>0.188490</td>\n",
       "      <td>3.058205</td>\n",
       "      <td>30.797507</td>\n",
       "    </tr>\n",
       "  </tbody>\n",
       "</table>\n",
       "</div>"
      ],
      "text/plain": [
       "  country country_code                            super_region     region  \\\n",
       "0   China          CHN  Southeast Asia, East Asia, and Oceania  East Asia   \n",
       "1   China          CHN  Southeast Asia, East Asia, and Oceania  East Asia   \n",
       "2   China          CHN  Southeast Asia, East Asia, and Oceania  East Asia   \n",
       "3   China          CHN  Southeast Asia, East Asia, and Oceania  East Asia   \n",
       "4   China          CHN  Southeast Asia, East Asia, and Oceania  East Asia   \n",
       "\n",
       "      sex          age           pop  alcohol_use   drug_use  high_meat  \\\n",
       "0    male    70+ years  3.818010e+07   336.913532  40.210751   5.069854   \n",
       "1  female  50-69 years  1.530703e+08    21.000557   4.697916   1.077716   \n",
       "2    male      Under 5  4.458679e+07     0.236908   0.120827        NaN   \n",
       "3    male   5-14 years  8.299538e+07     1.292633   0.038498        NaN   \n",
       "4    male  15-49 years  3.901690e+08    35.849941   5.677337   0.188490   \n",
       "\n",
       "   low_exercise      smoking  \n",
       "0    248.266850  1944.480464  \n",
       "1     12.919982    37.807709  \n",
       "2           NaN          NaN  \n",
       "3           NaN          NaN  \n",
       "4      3.058205    30.797507  "
      ]
     },
     "execution_count": 1,
     "metadata": {},
     "output_type": "execute_result"
    }
   ],
   "source": [
    "import pandas as pd\n",
    "import numpy as np\n",
    "import matplotlib.pyplot as plt\n",
    "from pandas.plotting import scatter_matrix\n",
    "data = pd.read_csv('./data/prepped/risk-data.csv')\n",
    "data.head()"
   ]
  },
  {
   "cell_type": "markdown",
   "metadata": {},
   "source": [
    "## Data Structure\n",
    "To get a basic sense of your dataset, check the following:\n",
    "\n",
    "- What is the size of the dataset (rows, columns)?\n",
    "- How many countries are present in the dataset?\n",
    "- What are the age-groups in the dataset?\n",
    "- What are the variables (columns) present in the dataset?\n",
    "- What is the data type of each variable?\n",
    "- What are the summary statistics of each quantitative variable (_hint: `describe()`_)\n",
    "\n",
    "Note the **count** for each column, and investigate why these may be inconsistent."
   ]
  },
  {
   "cell_type": "code",
   "execution_count": 20,
   "metadata": {},
   "outputs": [
    {
     "name": "stdout",
     "output_type": "stream",
     "text": [
      "Dataset size: (1950, 12)\n",
      "\n",
      "Number of countries: 195\n",
      "\n",
      "Age groups: ['70+ years' '50-69 years' 'Under 5' '5-14 years' '15-49 years']\n",
      "\n",
      "Variables:['country', 'country_code', 'super_region', 'region', 'sex', 'age', 'pop', 'alcohol_use', 'drug_use', 'high_meat', 'low_exercise', 'smoking'] \n",
      "\n",
      "Variable Types: country          object\n",
      "country_code     object\n",
      "super_region     object\n",
      "region           object\n",
      "sex              object\n",
      "age              object\n",
      "pop             float64\n",
      "alcohol_use     float64\n",
      "drug_use        float64\n",
      "high_meat       float64\n",
      "low_exercise    float64\n",
      "smoking         float64\n",
      "dtype: object\n",
      "\n",
      "Summary:                 pop  alcohol_use     drug_use    high_meat  low_exercise  \\\n",
      "count  1.950000e+03  1950.000000  1950.000000  1170.000000   1170.000000   \n",
      "mean   3.777708e+06    47.146545     7.128357     2.594225    119.552443   \n",
      "std    1.913391e+07    86.009150    14.197640     4.043355    153.239610   \n",
      "min    3.563755e+02  -106.232008     0.000038     0.000176      0.308731   \n",
      "25%    1.000900e+05     0.273705     0.030068     0.154818      4.033243   \n",
      "50%    5.054975e+05     6.784878     1.917572     0.817486     40.743931   \n",
      "75%    2.071966e+06    54.987255     8.528416     3.286753    209.803827   \n",
      "max    3.901690e+08   662.914151   314.625888    36.087746    844.249502   \n",
      "\n",
      "           smoking  \n",
      "count  1170.000000  \n",
      "mean    299.520438  \n",
      "std     437.167168  \n",
      "min       0.532166  \n",
      "25%      19.149328  \n",
      "50%     105.816725  \n",
      "75%     409.049890  \n",
      "max    2691.239677  \n"
     ]
    }
   ],
   "source": [
    "# Size of dataset\n",
    "dataset_size = data.shape\n",
    "\n",
    "# How many countries?\n",
    "num_countries = len(data.country.unique())\n",
    "\n",
    "# Age groups\n",
    "age_groups = data.age.unique()\n",
    "\n",
    "# Dataset variables\n",
    "variables = list(data)\n",
    "\n",
    "# Datatypes of each variable\n",
    "variable_types = data.dtypes\n",
    "\n",
    "# Summary statistics of each quantitative variable\n",
    "summary = data.describe()\n",
    "\n",
    "print(\"Dataset size: {}\\n\\nNumber of countries: {}\\n\\nAge groups: {}\\n\\nVariables:{} \\n\\nVariable Types: {}\\n\\nSummary: {}\"\n",
    "      .format(dataset_size, num_countries, age_groups, variables, variable_types, summary))"
   ]
  },
  {
   "cell_type": "markdown",
   "metadata": {},
   "source": [
    "\n",
    "## Univariate Analysis\n",
    "To explore the distribution of each risk-column in a visual way, create a plot with multiple sub-plots where each sub-plot is a histogram of a risk-column. This [example](https://matplotlib.org/1.4.3/examples/statistics/histogram_demo_multihist.html) may be helpful.\n",
    "\n",
    "- Note what you find surprising!\n",
    "\n",
    "_Hint:_ You may want to use a loop to create each histogram\n",
    "\n",
    "_ Another hint_: You may have to **remove NaN values** to make your histograms"
   ]
  },
  {
   "cell_type": "code",
   "execution_count": 21,
   "metadata": {},
   "outputs": [
    {
     "data": {
      "image/png": "[encoded data removed]",
      "text/plain": [
       "<Figure size 1080x720 with 5 Axes>"
      ]
     },
     "metadata": {
      "needs_background": "light"
     },
     "output_type": "display_data"
    }
   ],
   "source": [
    "plt.close('all')\n",
    "fig, axes = plt.subplots(nrows=1, ncols=5, figsize=(15, 10), sharex=True, sharey=True)\n",
    "\n",
    "for index, col in enumerate(data.columns[7:len(data.columns) + 1]):\n",
    "    axes.flat[index].hist(data[col].dropna())\n",
    "    axes.flat[index].set_title(col)\n",
    "plt.show()"
   ]
  },
  {
   "cell_type": "markdown",
   "metadata": {},
   "source": [
    "## Univariate analysis (by age)\n",
    "In this section, you should **write a function** to investigate how a given risk (column) varies by **age group**. More specifically, the function should create a set of histograms (one for each age-group) to show the distribution of death rates across countries for a given risk factor.\n",
    "\n",
    "Make sure to **include a docstring** to describe your function."
   ]
  },
  {
   "cell_type": "code",
   "execution_count": 22,
   "metadata": {},
   "outputs": [],
   "source": [
    "def show_dist_by_age(risk):\n",
    "    \"\"\"This function takes in a risk (column) and shows the age distribution of that risk\"\"\"\n",
    "    fig, axes = plt.subplots(nrows=1, ncols=5, figsize=(15, 10), sharex=True, sharey=True)\n",
    "    for index, (title, group) in enumerate(data.groupby('age')):\n",
    "        axes.flat[index].hist(group[risk].dropna())\n",
    "        axes.flat[index].set_title(title)\n",
    "    plt.show()"
   ]
  },
  {
   "cell_type": "code",
   "execution_count": 23,
   "metadata": {},
   "outputs": [
    {
     "data": {
      "image/png": "[encoded data removed]",
      "text/plain": [
       "<Figure size 1080x720 with 5 Axes>"
      ]
     },
     "metadata": {
      "needs_background": "light"
     },
     "output_type": "display_data"
    }
   ],
   "source": [
    "show_dist_by_age('high_meat')"
   ]
  },
  {
   "cell_type": "markdown",
   "metadata": {},
   "source": [
    "## Univariate analysis (by sex)\n",
    "In this section, you should investigate how a given risk (column) varies by **sex**. To do this, **write a function** to create a single histogram with _overlapping distributions_ for men and women (for a given risk factor). \n",
    "\n",
    "Make sure to include a **docstring**. \n",
    "\n",
    "_Hint_: turn down the _alpha_ (opacity) to help reduce occlusion in the chart. "
   ]
  },
  {
   "cell_type": "code",
   "execution_count": 24,
   "metadata": {},
   "outputs": [],
   "source": [
    "def show_dist_by_sex(risk):\n",
    "    '''This function takes in a risk (column) and shows the sex distribution of that risk in a histogram'''\n",
    "    for title, group in data.groupby('sex'):\n",
    "        plt.hist(group[risk].dropna(), alpha=0.5, label=title)\n",
    "        plt.legend(loc='upper right')\n",
    "    plt.show()"
   ]
  },
  {
   "cell_type": "code",
   "execution_count": 25,
   "metadata": {},
   "outputs": [
    {
     "data": {
      "image/png": "[encoded data removed]",
      "text/plain": [
       "<Figure size 432x288 with 1 Axes>"
      ]
     },
     "metadata": {
      "needs_background": "light"
     },
     "output_type": "display_data"
    }
   ],
   "source": [
    "show_dist_by_sex('smoking')"
   ]
  },
  {
   "cell_type": "markdown",
   "metadata": {},
   "source": [
    "## Univariate analysis (by super_region)\n",
    "\n",
    "### Data Prep\n",
    "In this section, you should investigate how each risk (column) varies by **super_region**. In order to do this, you'll need to **convert death rates to deaths** by multiplying the death rate by the `pop` column. Then, aggregate the data using the **group by** function (grouping by `super_region`) to compute the total number of deaths. Then, you'll need to _convert back_ to death _rates_ by dividing each risk by the aggregated `pop` column.\n",
    "\n",
    "### Visualization\n",
    "Then, you should write **two functions** that visualize your **aggregated** dataset:\n",
    "\n",
    "1. For a given **risk factor**, show a bar chart of the death rate in each **super region**.\n",
    "2. For a given **super region**, show a bar chart of the death rate for each **risk**.\n",
    "\n",
    "Make sure to include a **docstring** for each function. "
   ]
  },
  {
   "cell_type": "code",
   "execution_count": 26,
   "metadata": {},
   "outputs": [
    {
     "data": {
      "text/html": [
       "<div>\n",
       "<style scoped>\n",
       "    .dataframe tbody tr th:only-of-type {\n",
       "        vertical-align: middle;\n",
       "    }\n",
       "\n",
       "    .dataframe tbody tr th {\n",
       "        vertical-align: top;\n",
       "    }\n",
       "\n",
       "    .dataframe thead th {\n",
       "        text-align: right;\n",
       "    }\n",
       "</style>\n",
       "<table border=\"1\" class=\"dataframe\">\n",
       "  <thead>\n",
       "    <tr style=\"text-align: right;\">\n",
       "      <th></th>\n",
       "      <th>super_region</th>\n",
       "      <th>pop</th>\n",
       "      <th>alcohol_use</th>\n",
       "      <th>drug_use</th>\n",
       "      <th>high_meat</th>\n",
       "      <th>low_exercise</th>\n",
       "      <th>smoking</th>\n",
       "    </tr>\n",
       "  </thead>\n",
       "  <tbody>\n",
       "    <tr>\n",
       "      <th>0</th>\n",
       "      <td>Central Europe, Eastern Europe, and Central Asia</td>\n",
       "      <td>3.466415e+08</td>\n",
       "      <td>115.804510</td>\n",
       "      <td>22.546002</td>\n",
       "      <td>1.347551</td>\n",
       "      <td>55.494938</td>\n",
       "      <td>197.402084</td>\n",
       "    </tr>\n",
       "    <tr>\n",
       "      <th>1</th>\n",
       "      <td>High-income</td>\n",
       "      <td>8.909083e+08</td>\n",
       "      <td>30.297827</td>\n",
       "      <td>15.531443</td>\n",
       "      <td>2.127817</td>\n",
       "      <td>42.031706</td>\n",
       "      <td>161.168064</td>\n",
       "    </tr>\n",
       "    <tr>\n",
       "      <th>2</th>\n",
       "      <td>Latin America and Caribbean</td>\n",
       "      <td>4.204660e+08</td>\n",
       "      <td>42.574280</td>\n",
       "      <td>6.408012</td>\n",
       "      <td>1.322069</td>\n",
       "      <td>28.639183</td>\n",
       "      <td>68.159292</td>\n",
       "    </tr>\n",
       "    <tr>\n",
       "      <th>3</th>\n",
       "      <td>North Africa and Middle East</td>\n",
       "      <td>3.900456e+08</td>\n",
       "      <td>11.699879</td>\n",
       "      <td>6.073744</td>\n",
       "      <td>0.167872</td>\n",
       "      <td>34.096407</td>\n",
       "      <td>66.630495</td>\n",
       "    </tr>\n",
       "    <tr>\n",
       "      <th>4</th>\n",
       "      <td>South Asia</td>\n",
       "      <td>1.189760e+09</td>\n",
       "      <td>32.033449</td>\n",
       "      <td>4.221249</td>\n",
       "      <td>0.020719</td>\n",
       "      <td>27.169908</td>\n",
       "      <td>87.478074</td>\n",
       "    </tr>\n",
       "    <tr>\n",
       "      <th>5</th>\n",
       "      <td>Southeast Asia, East Asia, and Oceania</td>\n",
       "      <td>1.670508e+09</td>\n",
       "      <td>46.471568</td>\n",
       "      <td>7.780311</td>\n",
       "      <td>0.648656</td>\n",
       "      <td>23.100463</td>\n",
       "      <td>147.241167</td>\n",
       "    </tr>\n",
       "    <tr>\n",
       "      <th>6</th>\n",
       "      <td>Sub-Saharan Africa</td>\n",
       "      <td>5.470018e+08</td>\n",
       "      <td>44.485406</td>\n",
       "      <td>6.919858</td>\n",
       "      <td>0.316985</td>\n",
       "      <td>13.566584</td>\n",
       "      <td>41.930845</td>\n",
       "    </tr>\n",
       "  </tbody>\n",
       "</table>\n",
       "</div>"
      ],
      "text/plain": [
       "                                       super_region           pop  \\\n",
       "0  Central Europe, Eastern Europe, and Central Asia  3.466415e+08   \n",
       "1                                       High-income  8.909083e+08   \n",
       "2                       Latin America and Caribbean  4.204660e+08   \n",
       "3                      North Africa and Middle East  3.900456e+08   \n",
       "4                                        South Asia  1.189760e+09   \n",
       "5            Southeast Asia, East Asia, and Oceania  1.670508e+09   \n",
       "6                                Sub-Saharan Africa  5.470018e+08   \n",
       "\n",
       "   alcohol_use   drug_use  high_meat  low_exercise     smoking  \n",
       "0   115.804510  22.546002   1.347551     55.494938  197.402084  \n",
       "1    30.297827  15.531443   2.127817     42.031706  161.168064  \n",
       "2    42.574280   6.408012   1.322069     28.639183   68.159292  \n",
       "3    11.699879   6.073744   0.167872     34.096407   66.630495  \n",
       "4    32.033449   4.221249   0.020719     27.169908   87.478074  \n",
       "5    46.471568   7.780311   0.648656     23.100463  147.241167  \n",
       "6    44.485406   6.919858   0.316985     13.566584   41.930845  "
      ]
     },
     "execution_count": 26,
     "metadata": {},
     "output_type": "execute_result"
    }
   ],
   "source": [
    "df = data.copy().dropna()\n",
    "\n",
    "# Convert death rates to deaths\n",
    "for col in df.columns[7:len(df.columns) + 1]:\n",
    "    df[col] = df[col] * df['pop']\n",
    "\n",
    "# Aggregate by super region\n",
    "df = df.groupby('super_region').sum().reset_index()\n",
    "\n",
    "# Convert back to rate\n",
    "for col in df.columns[2:len(df.columns) + 1]:\n",
    "    df[col] = df[col] / df['pop']\n",
    "\n",
    "df"
   ]
  },
  {
   "cell_type": "code",
   "execution_count": 27,
   "metadata": {},
   "outputs": [],
   "source": [
    "# Bar charts by region for a given risk\n",
    "def show_regions_by_risk(risk):\n",
    "    '''This function takes in a risk (column) and shows the super region distribution'''\n",
    "    plt.bar(df['super_region'], df[risk])\n",
    "    plt.show()\n",
    "    \n",
    "    \n",
    "# Bar charts by risk for a given region\n",
    "def show_risk_by_region(region):\n",
    "    x = list(df.columns[2:len(df.columns) + 1])\n",
    "    y = df[df['super_region'] == region].values[0][2:]\n",
    "    plt.bar(x,y)\n",
    "    plt.show()"
   ]
  },
  {
   "cell_type": "code",
   "execution_count": 28,
   "metadata": {},
   "outputs": [
    {
     "data": {
      "image/png": "[encoded data removed]",
      "text/plain": [
       "<Figure size 432x288 with 1 Axes>"
      ]
     },
     "metadata": {
      "needs_background": "light"
     },
     "output_type": "display_data"
    }
   ],
   "source": [
    "# Use your first function to show the smoking death rate in each region\n",
    "show_regions_by_risk('smoking')"
   ]
  },
  {
   "cell_type": "code",
   "execution_count": 32,
   "metadata": {},
   "outputs": [
    {
     "data": {
      "image/png": "[encoded data removed]",
      "text/plain": [
       "<Figure size 432x288 with 1 Axes>"
      ]
     },
     "metadata": {
      "needs_background": "light"
     },
     "output_type": "display_data"
    }
   ],
   "source": [
    "# User your second function to show the death rate for each risk in the \"South Asia\" region\n",
    "show_risk_by_region('North Africa and Middle East')"
   ]
  },
  {
   "cell_type": "markdown",
   "metadata": {},
   "source": [
    "## Bivariate analysis\n",
    "As a final step, create a **scatterplot matrix** of all of your risks to visually assess the correlation across death rates. Hint: see [documentation](https://pandas.pydata.org/pandas-docs/stable/visualization.html#scatter-matrix-plot)."
   ]
  },
  {
   "cell_type": "code",
   "execution_count": 37,
   "metadata": {},
   "outputs": [
    {
     "data": {
      "image/png": "[encoded data removed]",
      "text/plain": [
       "<Figure size 432x432 with 36 Axes>"
      ]
     },
     "metadata": {
      "needs_background": "light"
     },
     "output_type": "display_data"
    }
   ],
   "source": [
    "scatter_matrix(df, alpha=0.9, figsize=(6, 6), diagonal='kde')\n",
    "plt.show()"
   ]
  }
 ],
 "metadata": {
  "kernelspec": {
   "display_name": "Python 3",
   "language": "python",
   "name": "python3"
  },
  "language_info": {
   "codemirror_mode": {
    "name": "ipython",
    "version": 3
   },
   "file_extension": ".py",
   "mimetype": "text/x-python",
   "name": "python",
   "nbconvert_exporter": "python",
   "pygments_lexer": "ipython3",
   "version": "3.7.6"
  }
 },
 "nbformat": 4,
 "nbformat_minor": 1
}
